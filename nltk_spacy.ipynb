{
 "cells": [
  {
   "cell_type": "code",
   "execution_count": 3,
   "metadata": {
    "collapsed": true
   },
   "outputs": [],
   "source": [
    "import spacy\n",
    "import pandas as pd\n",
    "import itertools as it\n",
    "from spacy.en import English\n",
    "parser = English()"
   ]
  },
  {
   "cell_type": "code",
   "execution_count": 4,
   "metadata": {
    "collapsed": true
   },
   "outputs": [],
   "source": [
    "nlp = spacy.load('en')"
   ]
  },
  {
   "cell_type": "code",
   "execution_count": 5,
   "metadata": {
    "collapsed": true
   },
   "outputs": [],
   "source": [
    "sample_review = \"I bought this for my husband who plays the piano.  He is having a wonderful time playing these old hymns.  The music  is at times hard to read because we think the book was published for singing from more than playing from.  Great purchase though!\""
   ]
  },
  {
   "cell_type": "code",
   "execution_count": 7,
   "metadata": {},
   "outputs": [
    {
     "name": "stdout",
     "output_type": "stream",
     "text": [
      "Wall time: 232 ms\n"
     ]
    }
   ],
   "source": [
    "%%time\n",
    "#parsedEx = parser(example) = nlp(unicode(sample_review))\n",
    "parsed_review = parser(unicode(sample_review))"
   ]
  },
  {
   "cell_type": "markdown",
   "metadata": {},
   "source": [
    "## Part Of Speech tagging POS"
   ]
  },
  {
   "cell_type": "code",
   "execution_count": 9,
   "metadata": {},
   "outputs": [
    {
     "name": "stdout",
     "output_type": "stream",
     "text": [
      "I bought this for my husband who plays the piano.\n",
      "He is having a wonderful time playing these old hymns.\n",
      "The music  is at times hard to read because we think the book was published for singing from more than playing from.\n",
      "Great purchase though!\n"
     ]
    }
   ],
   "source": [
    "# Sentence Parsing\n",
    "\n",
    "sents = []\n",
    "# the \"sents\" property returns spans\n",
    "# spans have indices into the original string\n",
    "# where each index value represents a token\n",
    "for span in parsed_review.sents:\n",
    "    # go from the start to the end of each span, returning each token in the sentence\n",
    "    # combine each token using join()\n",
    "    sent = ''.join(parsed_review[i].string for i in range(span.start, span.end)).strip()\n",
    "    sents.append(sent)\n",
    "\n",
    "for sentence in sents:\n",
    "    print(sentence)"
   ]
  },
  {
   "cell_type": "code",
   "execution_count": 10,
   "metadata": {},
   "outputs": [
    {
     "name": "stdout",
     "output_type": "stream",
     "text": [
      "(u'I', u'PRON')\n",
      "(u'bought', u'VERB')\n",
      "(u'this', u'DET')\n",
      "(u'for', u'ADP')\n",
      "(u'my', u'ADJ')\n",
      "(u'husband', u'NOUN')\n",
      "(u'who', u'NOUN')\n",
      "(u'plays', u'VERB')\n",
      "(u'the', u'DET')\n",
      "(u'piano', u'NOUN')\n",
      "(u'.', u'PUNCT')\n",
      "(u' ', u'SPACE')\n"
     ]
    }
   ],
   "source": [
    "for span in parsed_review.sents:\n",
    "    sent = [parsed_review[i] for i in range(span.start, span.end)]\n",
    "    break\n",
    "\n",
    "for token in sent:\n",
    "    print(token.orth_, token.pos_)"
   ]
  },
  {
   "cell_type": "markdown",
   "metadata": {},
   "source": [
    "# Dependency Parsing"
   ]
  },
  {
   "cell_type": "code",
   "execution_count": 13,
   "metadata": {},
   "outputs": [
    {
     "name": "stdout",
     "output_type": "stream",
     "text": [
      "(u'I', u'nsubj', u'bought', [], [])\n",
      "(u'bought', u'ROOT', u'bought', [u'I'], [u'this', u'for', u'.'])\n",
      "(u'this', u'dobj', u'bought', [], [])\n",
      "(u'for', u'prep', u'bought', [], [u'husband'])\n",
      "(u'my', u'poss', u'husband', [], [])\n",
      "(u'husband', u'pobj', u'for', [u'my'], [u'plays'])\n",
      "(u'who', u'nsubj', u'plays', [], [])\n",
      "(u'plays', u'relcl', u'husband', [u'who'], [u'piano'])\n",
      "(u'the', u'det', u'piano', [], [])\n",
      "(u'piano', u'dobj', u'plays', [u'the'], [])\n",
      "(u'.', u'punct', u'bought', [], [u' '])\n",
      "(u' ', u'', u'.', [], [])\n",
      "(u'He', u'nsubj', u'is', [], [])\n",
      "(u'is', u'aux', u'having', [u'He'], [])\n",
      "(u'having', u'ROOT', u'having', [u'is'], [u'time', u'playing', u'.'])\n",
      "(u'a', u'det', u'time', [], [])\n",
      "(u'wonderful', u'amod', u'time', [], [])\n",
      "(u'time', u'dobj', u'having', [u'a', u'wonderful'], [])\n",
      "(u'playing', u'conj', u'having', [], [u'hymns'])\n",
      "(u'these', u'det', u'hymns', [], [])\n",
      "(u'old', u'amod', u'hymns', [], [])\n",
      "(u'hymns', u'dobj', u'playing', [u'these', u'old'], [])\n",
      "(u'.', u'punct', u'having', [], [u' '])\n",
      "(u' ', u'', u'.', [], [])\n",
      "(u'The', u'det', u'music', [], [])\n",
      "(u'music', u'nsubj', u'is', [u'The'], [u' '])\n",
      "(u' ', u'', u'music', [], [])\n",
      "(u'is', u'ROOT', u'is', [u'music'], [u'at', u'hard', u'think', u'.'])\n",
      "(u'at', u'prep', u'is', [], [u'times'])\n",
      "(u'times', u'pobj', u'at', [], [])\n",
      "(u'hard', u'acomp', u'is', [], [u'read'])\n",
      "(u'to', u'aux', u'read', [], [])\n",
      "(u'read', u'xcomp', u'hard', [u'to'], [])\n",
      "(u'because', u'mark', u'think', [], [])\n",
      "(u'we', u'nsubj', u'think', [], [])\n",
      "(u'think', u'advcl', u'is', [u'because', u'we'], [u'published'])\n",
      "(u'the', u'det', u'book', [], [])\n",
      "(u'book', u'nsubjpass', u'published', [u'the'], [])\n",
      "(u'was', u'auxpass', u'published', [], [])\n",
      "(u'published', u'ccomp', u'think', [u'book', u'was'], [u'for'])\n",
      "(u'for', u'prep', u'published', [], [u'singing'])\n",
      "(u'singing', u'pcomp', u'for', [], [u'from'])\n",
      "(u'from', u'prep', u'singing', [], [u'more'])\n",
      "(u'more', u'pobj', u'from', [], [u'than'])\n",
      "(u'than', u'prep', u'more', [], [u'playing'])\n",
      "(u'playing', u'pcomp', u'than', [], [u'from'])\n",
      "(u'from', u'prep', u'playing', [], [])\n",
      "(u'.', u'punct', u'is', [], [u' '])\n",
      "(u' ', u'', u'.', [], [])\n",
      "(u'Great', u'compound', u'purchase', [], [])\n",
      "(u'purchase', u'ROOT', u'purchase', [u'Great'], [u'though', u'!'])\n",
      "(u'though', u'advmod', u'purchase', [], [])\n",
      "(u'!', u'punct', u'purchase', [], [])\n"
     ]
    }
   ],
   "source": [
    "# shown as: original token, dependency tag, head word, left dependents, right dependents\n",
    "for token in parsed_review:\n",
    "    print(token.orth_, token.dep_, token.head.orth_, [t.orth_ for t in token.lefts], [t.orth_ for t in token.rights])"
   ]
  },
  {
   "cell_type": "markdown",
   "metadata": {},
   "source": [
    "# Dependency Tree"
   ]
  },
  {
   "cell_type": "code",
   "execution_count": 11,
   "metadata": {
    "collapsed": true
   },
   "outputs": [],
   "source": [
    "from nltk import Tree"
   ]
  },
  {
   "cell_type": "code",
   "execution_count": 12,
   "metadata": {},
   "outputs": [
    {
     "name": "stdout",
     "output_type": "stream",
     "text": [
      "         bought                        \n",
      "  _________|_________________________   \n",
      " |   |            for                | \n",
      " |   |             |                 |  \n",
      " |   |          husband              | \n",
      " |   |      _______|______           |  \n",
      " |   |     |            plays        | \n",
      " |   |     |        ______|_____     |  \n",
      " |   |     |       |          piano  . \n",
      " |   |     |       |            |    |  \n",
      " I  this   my     who          the     \n",
      "\n",
      "               having                       \n",
      "  _______________|________________________   \n",
      " |       |                   playing      | \n",
      " |       |                      |         |  \n",
      " is     time                  hymns       . \n",
      " |    ___|_______         ______|_____    |  \n",
      " He  a       wonderful these         old    \n",
      "\n",
      "                            is                                  \n",
      "       _____________________|_________________________________   \n",
      "      |         |    |               think                    | \n",
      "      |         |    |       __________|_______               |  \n",
      "      |         |    |      |     |        published          | \n",
      "      |         |    |      |     |     _______|________      |  \n",
      "      |         |    |      |     |    |       |       for    | \n",
      "      |         |    |      |     |    |       |        |     |  \n",
      "      |         |    |      |     |    |       |     singing  | \n",
      "      |         |    |      |     |    |       |        |     |  \n",
      "      |         |    |      |     |    |       |       from   | \n",
      "      |         |    |      |     |    |       |        |     |  \n",
      "      |         |    |      |     |    |       |       more   | \n",
      "      |         |    |      |     |    |       |        |     |  \n",
      "      |         |   hard    |     |    |       |       than   | \n",
      "      |         |    |      |     |    |       |        |     |  \n",
      "    music       at  read    |     |    |      book   playing  . \n",
      "  ____|____     |    |      |     |    |       |        |     |  \n",
      "The           times  to  because  we  was     the      from     \n",
      "\n",
      "      purchase    \n",
      "   ______|______   \n",
      "Great  though   ! \n",
      "\n"
     ]
    },
    {
     "data": {
      "text/plain": [
       "[None, None, None, None]"
      ]
     },
     "execution_count": 12,
     "metadata": {},
     "output_type": "execute_result"
    }
   ],
   "source": [
    "def to_nltk_tree(node):\n",
    "    if node.n_lefts + node.n_rights > 0:\n",
    "        return Tree(node.orth_, [to_nltk_tree(child) for child in node.children])\n",
    "    else:\n",
    "        return node.orth_\n",
    "\n",
    "\n",
    "[to_nltk_tree(sent.root).pretty_print() for sent in parsed_review.sents]"
   ]
  },
  {
   "cell_type": "markdown",
   "metadata": {},
   "source": [
    "# Named Entity Reference"
   ]
  },
  {
   "cell_type": "code",
   "execution_count": 14,
   "metadata": {
    "collapsed": true
   },
   "outputs": [],
   "source": [
    "ents = list(parsed_review.ents)\n",
    "for entity in ents:\n",
    "    print(entity.label, entity.label_, ' '.join(t.orth_ for t in entity))"
   ]
  },
  {
   "cell_type": "code",
   "execution_count": 16,
   "metadata": {},
   "outputs": [
    {
     "name": "stdout",
     "output_type": "stream",
     "text": [
      "(u'I', u'', u'O')\n",
      "(u'bought', u'', u'O')\n",
      "(u'this', u'', u'O')\n",
      "(u'for', u'', u'O')\n",
      "(u'my', u'', u'O')\n",
      "(u'husband', u'', u'O')\n",
      "(u'who', u'', u'O')\n",
      "(u'plays', u'', u'O')\n",
      "(u'the', u'', u'O')\n",
      "(u'piano', u'', u'O')\n",
      "(u'.', u'', u'O')\n",
      "(u' ', u'', u'O')\n",
      "(u'He', u'', u'O')\n",
      "(u'is', u'', u'O')\n",
      "(u'having', u'', u'O')\n",
      "(u'a', u'', u'O')\n",
      "(u'wonderful', u'', u'O')\n",
      "(u'time', u'', u'O')\n",
      "(u'playing', u'', u'O')\n",
      "(u'these', u'', u'O')\n",
      "(u'old', u'', u'O')\n",
      "(u'hymns', u'', u'O')\n",
      "(u'.', u'', u'O')\n",
      "(u' ', u'', u'O')\n",
      "(u'The', u'', u'O')\n",
      "(u'music', u'', u'O')\n",
      "(u' ', u'', u'O')\n",
      "(u'is', u'', u'O')\n",
      "(u'at', u'', u'O')\n",
      "(u'times', u'', u'O')\n",
      "(u'hard', u'', u'O')\n",
      "(u'to', u'', u'O')\n",
      "(u'read', u'', u'O')\n",
      "(u'because', u'', u'O')\n",
      "(u'we', u'', u'O')\n",
      "(u'think', u'', u'O')\n",
      "(u'the', u'', u'O')\n",
      "(u'book', u'', u'O')\n",
      "(u'was', u'', u'O')\n",
      "(u'published', u'', u'O')\n",
      "(u'for', u'', u'O')\n",
      "(u'singing', u'', u'O')\n",
      "(u'from', u'', u'O')\n",
      "(u'more', u'', u'O')\n",
      "(u'than', u'', u'O')\n",
      "(u'playing', u'', u'O')\n",
      "(u'from', u'', u'O')\n",
      "(u'.', u'', u'O')\n",
      "(u' ', u'', u'O')\n",
      "(u'Great', u'', u'O')\n",
      "(u'purchase', u'', u'O')\n",
      "(u'though', u'', u'O')\n",
      "(u'!', u'', u'O')\n"
     ]
    }
   ],
   "source": [
    "for token in parsed_review:\n",
    "    print(token.orth_, token.ent_type_,token.ent_iob_ )"
   ]
  },
  {
   "cell_type": "code",
   "execution_count": null,
   "metadata": {
    "collapsed": true
   },
   "outputs": [],
   "source": []
  }
 ],
 "metadata": {
  "kernelspec": {
   "display_name": "Python 2",
   "language": "python",
   "name": "python2"
  },
  "language_info": {
   "codemirror_mode": {
    "name": "ipython",
    "version": 2
   },
   "file_extension": ".py",
   "mimetype": "text/x-python",
   "name": "python",
   "nbconvert_exporter": "python",
   "pygments_lexer": "ipython2",
   "version": "2.7.13"
  }
 },
 "nbformat": 4,
 "nbformat_minor": 2
}
